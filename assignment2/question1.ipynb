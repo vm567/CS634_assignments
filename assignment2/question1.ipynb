{
 "cells": [
  {
   "cell_type": "markdown",
   "metadata": {},
   "source": [
    "# Bike Rides and the Poisson Model\n",
    "\n",
    "To help the urban planners, you are called to model the daily bike rides in NYC using [this dataset](https://gist.github.com/sachinsdate/c17931a3f000492c1c42cf78bf4ce9fe/archive/7a5131d3f02575668b3c7e8c146b6a285acd2cd7.zip).  The dataset contains date, day of the week, high and low temp, precipitation and bike ride couunts as columns. \n",
    "\n"
   ]
  },
  {
   "attachments": {},
   "cell_type": "markdown",
   "metadata": {},
   "source": [
    "## Maximum Likelihood I \n",
    " \n",
    "The obiasvious choice in distributions is the [Poisson distribution](https://en.wikipedia.org/wiki/Poisson_distribution) which depends only on one parameter, λ, which is the average number of occurrences per interval. We want to estimate this parameter using Maximum Likelihood Estimation.\n",
    "\n",
    "Implement a Gradient Descent algorithm from scratch that will estimate the Poisson distribution according to the Maximum Likelihood criterion. Plot the estimated mean vs iterations to showcase convergence towards the true mean. \n",
    "\n",
    "References: \n",
    "\n",
    "1. [This biaslog post](https://towardsdatascience.com/the-poisson-process-everything-you-need-to-know-322aa0ab9e9a). \n",
    "\n",
    "2. [This blog post](https://towardsdatascience.com/understanding-maximum-likelihood-estimation-fa495a03017a) and note the negative  log likelihood function.  \n"
   ]
  },
  {
   "attachments": {},
   "cell_type": "markdown",
   "metadata": {},
   "source": [
    "### Here we import pandas and numpy for mathematical calculations and matplotllibiasias for plotting and seabiasorn for graphical explanations\n",
    "### Import the dataset and print first five data items"
   ]
  },
  {
   "cell_type": "code",
   "execution_count": 132,
   "metadata": {},
   "outputs": [
    {
     "data": {
      "text/html": [
       "<div>\n",
       "<style scoped>\n",
       "    .dataframe tbody tr th:only-of-type {\n",
       "        vertical-align: middle;\n",
       "    }\n",
       "\n",
       "    .dataframe tbody tr th {\n",
       "        vertical-align: top;\n",
       "    }\n",
       "\n",
       "    .dataframe thead th {\n",
       "        text-align: right;\n",
       "    }\n",
       "</style>\n",
       "<table border=\"1\" class=\"dataframe\">\n",
       "  <thead>\n",
       "    <tr style=\"text-align: right;\">\n",
       "      <th></th>\n",
       "      <th>Date</th>\n",
       "      <th>HIGH_T</th>\n",
       "      <th>LOW_T</th>\n",
       "      <th>PRECIP</th>\n",
       "      <th>BB_COUNT</th>\n",
       "    </tr>\n",
       "  </thead>\n",
       "  <tbody>\n",
       "    <tr>\n",
       "      <th>0</th>\n",
       "      <td>1-Apr-17</td>\n",
       "      <td>46.0</td>\n",
       "      <td>37.0</td>\n",
       "      <td>0.00</td>\n",
       "      <td>606</td>\n",
       "    </tr>\n",
       "    <tr>\n",
       "      <th>1</th>\n",
       "      <td>2-Apr-17</td>\n",
       "      <td>62.1</td>\n",
       "      <td>41.0</td>\n",
       "      <td>0.00</td>\n",
       "      <td>2021</td>\n",
       "    </tr>\n",
       "    <tr>\n",
       "      <th>2</th>\n",
       "      <td>3-Apr-17</td>\n",
       "      <td>63.0</td>\n",
       "      <td>50.0</td>\n",
       "      <td>0.03</td>\n",
       "      <td>2470</td>\n",
       "    </tr>\n",
       "    <tr>\n",
       "      <th>3</th>\n",
       "      <td>4-Apr-17</td>\n",
       "      <td>51.1</td>\n",
       "      <td>46.0</td>\n",
       "      <td>1.18</td>\n",
       "      <td>723</td>\n",
       "    </tr>\n",
       "    <tr>\n",
       "      <th>4</th>\n",
       "      <td>5-Apr-17</td>\n",
       "      <td>63.0</td>\n",
       "      <td>46.0</td>\n",
       "      <td>0.00</td>\n",
       "      <td>2807</td>\n",
       "    </tr>\n",
       "  </tbody>\n",
       "</table>\n",
       "</div>"
      ],
      "text/plain": [
       "       Date  HIGH_T  LOW_T  PRECIP  BB_COUNT\n",
       "0  1-Apr-17    46.0   37.0    0.00       606\n",
       "1  2-Apr-17    62.1   41.0    0.00      2021\n",
       "2  3-Apr-17    63.0   50.0    0.03      2470\n",
       "3  4-Apr-17    51.1   46.0    1.18       723\n",
       "4  5-Apr-17    63.0   46.0    0.00      2807"
      ]
     },
     "execution_count": 132,
     "metadata": {},
     "output_type": "execute_result"
    }
   ],
   "source": [
    "import pandas as pd\n",
    "import numpy as np\n",
    "import matplotlib.pyplot as plt\n",
    "import seaborn as sn\n",
    "import random\n",
    "import math\n",
    "\n",
    "\n",
    "df=pd.read_csv('D:\\\\NJIT\\\\spring23\\\\datamining\\\\CS634_assignments\\\\assignment2\\\\nyc_bb_bicyclist_counts.csv')\n",
    "df.head()"
   ]
  },
  {
   "attachments": {},
   "cell_type": "markdown",
   "metadata": {},
   "source": [
    "### Here we will biase alotting values to the variables X and Y and normalizing them by finding mean and standard deviation.\n",
    "### Then we will initialize the bias and weights which are parameters for gradient descent algorithm"
   ]
  },
  {
   "cell_type": "code",
   "execution_count": 133,
   "metadata": {},
   "outputs": [],
   "source": [
    "X2=df[['HIGH_T','LOW_T','PRECIP']]\n",
    "Y=df['BB_COUNT']\n",
    "Y=np.array((Y-Y.mean())/Y.std())\n",
    "# axis 0 - applying lambda functionto each column\n",
    "X=X.apply(lambda val:(val-val.mean())/val.std(),axis=0)\n",
    "\n",
    "\n",
    "\n"
   ]
  },
  {
   "cell_type": "code",
   "execution_count": 134,
   "metadata": {},
   "outputs": [
    {
     "name": "stdout",
     "output_type": "stream",
     "text": [
      "Bias:  0.5865212023968106 Weights:  [0.34626534 0.38018129 0.60852007]\n"
     ]
    }
   ],
   "source": [
    "def initialize(dim):\n",
    "    bias=random.random()\n",
    "    weight=np.random.rand(dim)\n",
    "    return bias,weight\n",
    "bias,weight=initialize(3)\n",
    "print(\"Bias: \",bias,\"Weights: \",weight)"
   ]
  },
  {
   "attachments": {},
   "cell_type": "markdown",
   "metadata": {},
   "source": [
    "Y_pred_function (Y2) = (w * x) + b\n",
    "Here, x is the independent variable\n",
    "      y is the dependent variable\n",
    "      w is the weight associated with input variable\n",
    "      b is the bias"
   ]
  },
  {
   "cell_type": "code",
   "execution_count": 135,
   "metadata": {},
   "outputs": [
    {
     "data": {
      "text/plain": [
       "array([-1.58031196, -0.88035647, -0.4363417 ,  0.77978868, -0.64609231,\n",
       "       -0.19280167, -1.25309111, -1.13191344, -0.58697047,  0.0848426 ])"
      ]
     },
     "execution_count": 135,
     "metadata": {},
     "output_type": "execute_result"
    }
   ],
   "source": [
    "def predict_Y(bias,weight,X):\n",
    "    return bias + np.dot(X,weight)\n",
    "Y_pred=predict_Y(bias,weight,X)\n",
    "Y_pred[0:10]"
   ]
  },
  {
   "attachments": {
    "image.png": {
     "image/png": "[encoded data removed]"
    }
   },
   "cell_type": "markdown",
   "metadata": {},
   "source": [
    "# Cost function \n",
    "![image.png](attachment:image.png)"
   ]
  },
  {
   "cell_type": "code",
   "execution_count": 136,
   "metadata": {},
   "outputs": [
    {
     "data": {
      "text/plain": [
       "1.1077514235238037"
      ]
     },
     "execution_count": 136,
     "metadata": {},
     "output_type": "execute_result"
    }
   ],
   "source": [
    "\n",
    "def cost_function(Y,Y_pred):\n",
    "    Y_result=Y-Y_pred\n",
    "    # print(Y_result)\n",
    "    return np.sum((Y-Y_result)**2)/len(Y)\n",
    "Y_pred=predict_Y(bias,weight,X)\n",
    "cost_function(Y,Y_pred)"
   ]
  },
  {
   "attachments": {},
   "cell_type": "markdown",
   "metadata": {},
   "source": [
    "# Reduce cost function by updating weights and biases using mathematical equation of gradient descent algorithm."
   ]
  },
  {
   "cell_type": "code",
   "execution_count": 137,
   "metadata": {},
   "outputs": [
    {
     "data": {
      "text/plain": [
       "3"
      ]
     },
     "execution_count": 137,
     "metadata": {},
     "output_type": "execute_result"
    }
   ],
   "source": [
    "len(X.T)"
   ]
  },
  {
   "attachments": {
    "image.png": {
     "image/png": "[encoded data removed]"
    }
   },
   "cell_type": "markdown",
   "metadata": {},
   "source": [
    "# Partial derivatives of weight and bias using cost function\n",
    "![image.png](attachment:image.png)\n"
   ]
  },
  {
   "cell_type": "code",
   "execution_count": 138,
   "metadata": {},
   "outputs": [],
   "source": [
    "def update_weight(X22222222,y,Y_pred,bias_0,weight_o,learning_rate):\n",
    "    dw = np.sum(np.dot((y-Y_pred),x))*(-2)/len(y)\n",
    "    db = np.sum(y-Y_pred)*(-2)/len(y)\n",
    "    bias_1=bias_0-learning_rate*db\n",
    "    weight_1=weight_o-learning_rate*dw\n",
    "    return bias_1,weight_1"
   ]
  },
  {
   "cell_type": "code",
   "execution_count": 139,
   "metadata": {},
   "outputs": [
    {
     "name": "stdout",
     "output_type": "stream",
     "text": [
      "After initialization -Bias:  0.5865212023968106 w:  [0.34626534 0.38018129 0.60852007]\n",
      "After first update -Bias:  0.5278690821571296 weight:  [0.19244632 0.22636227 0.45470105]\n"
     ]
    },
    {
     "data": {
      "text/plain": [
       "1.1077514235238037"
      ]
     },
     "execution_count": 139,
     "metadata": {},
     "output_type": "execute_result"
    }
   ],
   "source": [
    "print(\"After initialization -Bias: \",bias,\"w: \",weight)\n",
    "Y_pred=predict_Y(bias,weight ,X)\n",
    "bias,weight =update_weight(X,Y,Y_pred,bias,weight,0.05)\n",
    "print(\"After first update -Bias: \",bias,\"weight: \",weight)\n",
    "cost_function(Y,Y_pred)"
   ]
  },
  {
   "attachments": {},
   "cell_type": "markdown",
   "metadata": {},
   "source": [
    "#### Assume some random larning rate and run some 'n' no of iterations to optimize bias and weights"
   ]
  },
  {
   "cell_type": "code",
   "execution_count": 144,
   "metadata": {},
   "outputs": [],
   "source": [
    "def run_gradient_descent(X,Y,learning_rate,num_iterations):\n",
    "    bias,weight=initialize(X.shape[1])\n",
    "    iter_num=0\n",
    "    gd_iterations_df=pd.DataFrame(columns=['iteration','cost'])\n",
    "    result_idx=0\n",
    "    for i in range(num_iterations):\n",
    "        Y_pred=predict_Y(bias,weight,X)\n",
    "        this_cost=cost_function(Y,Y_pred)\n",
    "        prev_bias=bias\n",
    "        prev_weight=weight\n",
    "        bias,weight=update_weight(X,Y,Y_pred,prev_bias,prev_weight,learning_rate)\n",
    "        if(iter_num%10==0):\n",
    "            gd_iterations_df.loc[result_idx]=[iter_num,this_cost]\n",
    "            result_idx=result_idx+1\n",
    "        iter_num +=1\n",
    "    print(\"Final Estimate of bias and weight : \",bias,weight)\n",
    "    return gd_iterations_df,bias,weight\n"
   ]
  },
  {
   "cell_type": "code",
   "execution_count": 145,
   "metadata": {},
   "outputs": [
    {
     "name": "stdout",
     "output_type": "stream",
     "text": [
      "Final Estimate of bias and weight :  0.002725790065984667 [ 0.0611786  -0.12212954  0.42956357]\n",
      "   iteration      cost\n",
      "0        0.0  0.990398\n",
      "1       10.0  0.219552\n",
      "2       20.0  0.189205\n",
      "3       30.0  0.185571\n",
      "4       40.0  0.185130\n"
     ]
    }
   ],
   "source": [
    "gd_iterations_df,bias,weight=run_gradient_descent(X,Y,learning_rate=0.05,num_iterations=50)\n",
    "print(gd_iterations_df)"
   ]
  },
  {
   "cell_type": "code",
   "execution_count": 146,
   "metadata": {},
   "outputs": [
    {
     "data": {
      "text/plain": [
       "Text(0, 0.5, 'Cost or MSE')"
      ]
     },
     "execution_count": 146,
     "metadata": {},
     "output_type": "execute_result"
    },
    {
     "data": {
      "image/png": "[encoded data removed]",
      "text/plain": [
       "<Figure size 640x480 with 1 Axes>"
      ]
     },
     "metadata": {},
     "output_type": "display_data"
    }
   ],
   "source": [
    "%matplotlib inline\n",
    "plt.plot(gd_iterations_df['iteration'],gd_iterations_df['cost'])\n",
    "plt.xlabel(\"Number of iterations\")\n",
    "plt.ylabel(\"Cost or MSE\")"
   ]
  },
  {
   "attachments": {},
   "cell_type": "markdown",
   "metadata": {},
   "source": [
    "# Assume some second value for the learning rate 'alpha' and check the values again."
   ]
  },
  {
   "cell_type": "code",
   "execution_count": 147,
   "metadata": {},
   "outputs": [
    {
     "name": "stdout",
     "output_type": "stream",
     "text": [
      "Final Estimate of bias and weight :  4.3092685817490065e-05 [-0.14985513  0.21876093  0.08228281]\n",
      "   iteration      cost\n",
      "0        0.0  2.145606\n",
      "1       10.0  0.023389\n",
      "2       20.0  0.021331\n",
      "3       30.0  0.021268\n",
      "4       40.0  0.021266\n"
     ]
    }
   ],
   "source": [
    "gd_iterations_df,bias,weight=run_gradient_descent(X,Y,learning_rate=0.08,num_iterations=50)\n",
    "print(gd_iterations_df)"
   ]
  },
  {
   "attachments": {},
   "cell_type": "markdown",
   "metadata": {},
   "source": [
    "# Plot the the graph for cost vs iterations with alpha value '0.05'"
   ]
  },
  {
   "cell_type": "code",
   "execution_count": 148,
   "metadata": {},
   "outputs": [
    {
     "data": {
      "text/plain": [
       "Text(0, 0.5, 'Cost or MSE')"
      ]
     },
     "execution_count": 148,
     "metadata": {},
     "output_type": "execute_result"
    },
    {
     "data": {
      "image/png": "[encoded data removed]",
      "text/plain": [
       "<Figure size 640x480 with 1 Axes>"
      ]
     },
     "metadata": {},
     "output_type": "display_data"
    }
   ],
   "source": [
    "%matplotlib inline\n",
    "plt.plot(gd_iterations_df['iteration'],gd_iterations_df['cost'])\n",
    "plt.xlabel(\"Number of iterations\")\n",
    "plt.ylabel(\"Cost or MSE\")"
   ]
  },
  {
   "cell_type": "code",
   "execution_count": null,
   "metadata": {},
   "outputs": [],
   "source": []
  },
  {
   "cell_type": "code",
   "execution_count": 149,
   "metadata": {},
   "outputs": [
    {
     "name": "stdout",
     "output_type": "stream",
     "text": [
      "Final Estimate of bias and weight :  0.004262216825281421 [ 0.1554732  -0.03843046  0.01807917]\n",
      "Final Estimate of bias and weight :  0.00015158654266010036 [-0.16144502  0.25358274  0.02455486]\n"
     ]
    },
    {
     "data": {
      "text/plain": [
       "Text(0.5, 1.0, 'Cost Vs. Iteration functions')"
      ]
     },
     "execution_count": 149,
     "metadata": {},
     "output_type": "execute_result"
    },
    {
     "data": {
      "image/png": "[encoded data removed]",
      "text/plain": [
       "<Figure size 640x480 with 1 Axes>"
      ]
     },
     "metadata": {},
     "output_type": "display_data"
    }
   ],
   "source": [
    "alpha_df_1,bias,weight=run_gradient_descent(X,Y,learning_rate=0.05,num_iterations=50)\n",
    "alpha_df_2,bias,weight=run_gradient_descent(X,Y,learning_rate=0.08,num_iterations=50)\n",
    "plt.plot(alpha_df_1['iteration'],alpha_df_1['cost'],label=\"alpha=0.05\")\n",
    "plt.plot(alpha_df_2['iteration'],alpha_df_2['cost'],label=\"alpha=0.08\")\n",
    "plt.legend()\n",
    "plt.ylabel('cost')\n",
    "plt.xlabel('No of iterations')\n",
    "plt.title('Cost Vs. Iteration functions')"
   ]
  },
  {
   "attachments": {},
   "cell_type": "markdown",
   "metadata": {},
   "source": [
    "## Maximum Likelihood II\n",
    "\n",
    "A colleague of yours suggest that the parameter $\\lambda$ must be itself dependent on the weather and other factors since people bike when its not raining. Assume that you model $\\lambda$ as \n",
    "\n",
    "$$\\lambda_i = \\exp(\\mathbf w^T \\mathbf x_i)$$\n",
    "\n",
    "where $\\mathbf x_i$ is one of the example features and $\\mathbf w$ is a set of parameters. \n",
    "\n",
    "Train the model with SGD with this assumption and compare the MSE of the Y_pred with the `Maximum Likelihood I` approach. \n",
    "\n",
    "You may want to use [this partial derivative of the log likelihood function](http://home.cc.umanitoba.ca/~godwinrt/7010/poissonregression.pdf)"
   ]
  },
  {
   "attachments": {},
   "cell_type": "markdown",
   "metadata": {},
   "source": [
    "### Import all the requires libraries and additionally import SGD regressor to build a model and mean_squared_error for estimating average square of errors"
   ]
  },
  {
   "cell_type": "code",
   "execution_count": 184,
   "metadata": {},
   "outputs": [
    {
     "data": {
      "text/html": [
       "<div>\n",
       "<style scoped>\n",
       "    .dataframe tbody tr th:only-of-type {\n",
       "        vertical-align: middle;\n",
       "    }\n",
       "\n",
       "    .dataframe tbody tr th {\n",
       "        vertical-align: top;\n",
       "    }\n",
       "\n",
       "    .dataframe thead th {\n",
       "        text-align: right;\n",
       "    }\n",
       "</style>\n",
       "<table border=\"1\" class=\"dataframe\">\n",
       "  <thead>\n",
       "    <tr style=\"text-align: right;\">\n",
       "      <th></th>\n",
       "      <th>Date</th>\n",
       "      <th>HIGH_T</th>\n",
       "      <th>LOW_T</th>\n",
       "      <th>PRECIP</th>\n",
       "      <th>BB_COUNT</th>\n",
       "    </tr>\n",
       "  </thead>\n",
       "  <tbody>\n",
       "    <tr>\n",
       "      <th>0</th>\n",
       "      <td>1-Apr-17</td>\n",
       "      <td>46.0</td>\n",
       "      <td>37.0</td>\n",
       "      <td>0.00</td>\n",
       "      <td>606</td>\n",
       "    </tr>\n",
       "    <tr>\n",
       "      <th>1</th>\n",
       "      <td>2-Apr-17</td>\n",
       "      <td>62.1</td>\n",
       "      <td>41.0</td>\n",
       "      <td>0.00</td>\n",
       "      <td>2021</td>\n",
       "    </tr>\n",
       "    <tr>\n",
       "      <th>2</th>\n",
       "      <td>3-Apr-17</td>\n",
       "      <td>63.0</td>\n",
       "      <td>50.0</td>\n",
       "      <td>0.03</td>\n",
       "      <td>2470</td>\n",
       "    </tr>\n",
       "    <tr>\n",
       "      <th>3</th>\n",
       "      <td>4-Apr-17</td>\n",
       "      <td>51.1</td>\n",
       "      <td>46.0</td>\n",
       "      <td>1.18</td>\n",
       "      <td>723</td>\n",
       "    </tr>\n",
       "    <tr>\n",
       "      <th>4</th>\n",
       "      <td>5-Apr-17</td>\n",
       "      <td>63.0</td>\n",
       "      <td>46.0</td>\n",
       "      <td>0.00</td>\n",
       "      <td>2807</td>\n",
       "    </tr>\n",
       "  </tbody>\n",
       "</table>\n",
       "</div>"
      ],
      "text/plain": [
       "       Date  HIGH_T  LOW_T  PRECIP  BB_COUNT\n",
       "0  1-Apr-17    46.0   37.0    0.00       606\n",
       "1  2-Apr-17    62.1   41.0    0.00      2021\n",
       "2  3-Apr-17    63.0   50.0    0.03      2470\n",
       "3  4-Apr-17    51.1   46.0    1.18       723\n",
       "4  5-Apr-17    63.0   46.0    0.00      2807"
      ]
     },
     "execution_count": 184,
     "metadata": {},
     "output_type": "execute_result"
    }
   ],
   "source": [
    "import numpy as np\n",
    "import pandas as pd\n",
    "import matplotlib.pyplot as plt\n",
    "from sklearn.linear_model import SGDRegressor\n",
    "from sklearn.metrics import mean_squared_error\n",
    "df=pd.read_csv('D:\\\\NJIT\\\\spring23\\\\datamining\\\\CS634_assignments\\\\assignment2\\\\nyc_bb_bicyclist_counts.csv')\n",
    "df.head()\n"
   ]
  },
  {
   "cell_type": "code",
   "execution_count": 185,
   "metadata": {},
   "outputs": [],
   "source": [
    "X2=df[['HIGH_T','LOW_T','PRECIP']]\n",
    "Y2=df['BB_COUNT']"
   ]
  },
  {
   "attachments": {},
   "cell_type": "markdown",
   "metadata": {},
   "source": [
    "# Calculate the cost function"
   ]
  },
  {
   "cell_type": "code",
   "execution_count": 188,
   "metadata": {},
   "outputs": [
    {
     "name": "stdout",
     "output_type": "stream",
     "text": [
      "Weights:  [0.32525422 0.69846282 0.97778965]\n"
     ]
    }
   ],
   "source": [
    "def initialize(dim):\n",
    "    \n",
    "    weight=np.random.rand(dim)\n",
    "    return weight\n",
    "weight=initialize(3)\n",
    "print(\"Weights: \",weight)"
   ]
  },
  {
   "cell_type": "code",
   "execution_count": 189,
   "metadata": {},
   "outputs": [
    {
     "name": "stdout",
     "output_type": "stream",
     "text": [
      "[0.32525422 0.69846282 0.97778965]\n"
     ]
    },
    {
     "data": {
      "text/plain": [
       "7546412.357835641"
      ]
     },
     "execution_count": 189,
     "metadata": {},
     "output_type": "execute_result"
    }
   ],
   "source": [
    "\n",
    "print(weight)\n",
    "def cost_function(X2,Y2,weight):\n",
    "    Y_pred = np.dot(X2,weight.T)    \n",
    "    cost = np.sum((Y_pred - Y2) ** 2)/len(Y2)\n",
    "    return cost\n",
    "cost_function(X2,Y2,weight)\n"
   ]
  },
  {
   "attachments": {},
   "cell_type": "markdown",
   "metadata": {},
   "source": [
    "# Obtain mean square error to confirm whether it matches with cost function"
   ]
  },
  {
   "cell_type": "code",
   "execution_count": 190,
   "metadata": {},
   "outputs": [
    {
     "data": {
      "text/plain": [
       "7546412.357835641"
      ]
     },
     "execution_count": 190,
     "metadata": {},
     "output_type": "execute_result"
    }
   ],
   "source": [
    "mean_squared_error(np.dot(X2,weight.T),Y2)"
   ]
  },
  {
   "attachments": {},
   "cell_type": "markdown",
   "metadata": {},
   "source": [
    "### Normalize all the features "
   ]
  },
  {
   "cell_type": "code",
   "execution_count": 191,
   "metadata": {},
   "outputs": [],
   "source": [
    "X_normal = (X2 - X2.min()) / (X2.max() - X2.min())\n",
    "X2 = X_normal"
   ]
  },
  {
   "attachments": {},
   "cell_type": "markdown",
   "metadata": {},
   "source": [
    "# Implement Stochastic Gradient Descent through Python"
   ]
  },
  {
   "cell_type": "code",
   "execution_count": 193,
   "metadata": {},
   "outputs": [],
   "source": [
    "def stocashtic_gradient_descent(X2,y,weight,learning_rate=0.01,iterations=10):\n",
    "    Y_len = len(y)\n",
    "    cost_hist = np.zeros(iterations)\n",
    "    \n",
    "    \n",
    "    for it in range(iterations):\n",
    "        for i in range(Y_len):\n",
    "            random_idx = np.random.randint(len(Y2))\n",
    "            X_i = X2[random_idx:random_idx+1]\n",
    "            y_i = Y2[random_idx:random_idx+1]\n",
    "            Y_pred = np.dot(X_i,weight)\n",
    "\n",
    "            weight = weight -(1/Y_len)*learning_rate*( X_i.T.dot((Y_pred - y_i)))\n",
    "            cost_hist[it] = cost_function(X_i,y_i,weight)\n",
    "        \n",
    "    return weight, cost_hist"
   ]
  },
  {
   "cell_type": "code",
   "execution_count": 194,
   "metadata": {},
   "outputs": [],
   "source": [
    "new_weight,cost_hist = stocashtic_gradient_descent(X2,Y2,weight)"
   ]
  },
  {
   "attachments": {},
   "cell_type": "markdown",
   "metadata": {},
   "source": [
    "### Calculating the mean squred error"
   ]
  },
  {
   "cell_type": "code",
   "execution_count": 195,
   "metadata": {},
   "outputs": [
    {
     "data": {
      "text/plain": [
       "6892628.843262947"
      ]
     },
     "execution_count": 195,
     "metadata": {},
     "output_type": "execute_result"
    }
   ],
   "source": [
    "mean_squared_error(np.dot(X2,new_weight.T),Y2)\n"
   ]
  },
  {
   "attachments": {},
   "cell_type": "markdown",
   "metadata": {},
   "source": [
    "# Plot the Graph using range and cost function History"
   ]
  },
  {
   "cell_type": "code",
   "execution_count": 196,
   "metadata": {},
   "outputs": [
    {
     "data": {
      "image/png": "[encoded data removed]",
      "text/plain": [
       "<Figure size 640x480 with 1 Axes>"
      ]
     },
     "metadata": {},
     "output_type": "display_data"
    }
   ],
   "source": [
    "plt.plot(range(10),cost_hist)\n",
    "plt.show()"
   ]
  }
 ],
 "metadata": {
  "kernelspec": {
   "display_name": "Python 3",
   "language": "python",
   "name": "python3"
  },
  "language_info": {
   "codemirror_mode": {
    "name": "ipython",
    "version": 3
   },
   "file_extension": ".py",
   "mimetype": "text/x-python",
   "name": "python",
   "nbconvert_exporter": "python",
   "pygments_lexer": "ipython3",
   "version": "3.7.4"
  },
  "orig_nbformat": 4,
  "vscode": {
   "interpreter": {
    "hash": "9f4ee5c8a9dbdd9c9850a675a5bb098b1ea68c3ee2e769d2dcd2ad67ba39538b"
   }
  }
 },
 "nbformat": 4,
 "nbformat_minor": 2
}
